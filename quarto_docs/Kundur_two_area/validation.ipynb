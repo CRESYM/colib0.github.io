{
 "cells": [
  {
   "cell_type": "markdown",
   "metadata": {},
   "source": [
    "# Validation of Kundur Two-Area Test System Implementation in Open Modelica \n"
   ]
  },
  {
   "cell_type": "markdown",
   "metadata": {},
   "source": [
    "For available functions in OMPython and how to export simulation data from OMEdit, look here:\n",
    "\n",
    "https://openmodelica.org/doc/OpenModelicaUsersGuide/latest/ompython.html"
   ]
  },
  {
   "cell_type": "code",
   "execution_count": null,
   "metadata": {},
   "outputs": [],
   "source": [
    "'''some examples as a starting point:\n",
    "\n",
    "from OMPython import ModelicaSystem\n",
    "MODEL_PACKAGE_PATH = \"D:/User/mfranke/documents/projects/colib/src/KundurTwoArea/package.mo\"\n",
    "DYNAWO_PACKAGE_PATH = \"D:/User/mfranke/documents/projects/dynawo_fork/dynawo/sources/Models/Modelica/Dynawo/package.mo\"\n",
    "mod = ModelicaSystem(MODEL_PACKAGE_PATH, \"KundurTwoArea.Grid.LoadFlow\", [(\"Modelica\", \"3.2.3\"), DYNAWO_PACKAGE_PATH])\n",
    "mod.simulate()\n",
    "\n",
    "all_available_quantities = mod.getQuantities()\n",
    "all_available_parameters = mod.getParameters()\n",
    "all_available_timeseries_data = mod.getSolutions()\n",
    "timeseries_data = mod.getSolutions(['time', 'bus01.UPu', 'bus01.UPhaseDegrees'], resultfile='c:/testresultfile.mat')\n",
    "\n",
    "mod.setParameters('P0PuGen01=7.0')\n",
    "mod.getParameters('P0PuGen01')\n",
    "mod.getContinuous(['bus01.UPu', 'bus01.UPhaseDegrees'])\n",
    "'''"
   ]
  },
  {
   "cell_type": "code",
   "execution_count": 14,
   "metadata": {},
   "outputs": [],
   "source": []
  },
  {
   "cell_type": "code",
   "execution_count": null,
   "metadata": {},
   "outputs": [],
   "source": []
  }
 ],
 "metadata": {
  "kernelspec": {
   "display_name": ".venv",
   "language": "python",
   "name": "python3"
  },
  "language_info": {
   "codemirror_mode": {
    "name": "ipython",
    "version": 3
   },
   "file_extension": ".py",
   "mimetype": "text/x-python",
   "name": "python",
   "nbconvert_exporter": "python",
   "pygments_lexer": "ipython3",
   "version": "3.10.11"
  }
 },
 "nbformat": 4,
 "nbformat_minor": 2
}
